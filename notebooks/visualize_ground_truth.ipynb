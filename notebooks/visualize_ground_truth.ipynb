{
 "cells": [
  {
   "cell_type": "markdown",
   "metadata": {},
   "source": [
    "ground truthを可視化"
   ]
  },
  {
   "cell_type": "markdown",
   "metadata": {},
   "source": [
    "BR00117011__2020-11-08T19_57_47-Measurement1/Images/r12c01f06p01"
   ]
  },
  {
   "cell_type": "code",
   "execution_count": 16,
   "metadata": {},
   "outputs": [],
   "source": [
    "import os\n",
    "\n",
    "save_dir = './visualize_ground_truth/illum'\n",
    "if not os.path.exists(save_dir):\n",
    "    os.makedirs(save_dir)\n",
    "\n",
    "save_dir = './visualize_ground_truth/images/BR00117011__2020-11-08T19_57_47-Measurement1/Images'\n",
    "if not os.path.exists(save_dir):\n",
    "    os.makedirs(save_dir)"
   ]
  },
  {
   "cell_type": "code",
   "execution_count": 17,
   "metadata": {},
   "outputs": [
    {
     "name": "stdout",
     "output_type": "stream",
     "text": [
      "r12c20f08p01-ch1sk1fk1fl1.tiff                100% 2022KB   5.3MB/s   00:00    \n",
      "r12c20f08p01-ch2sk1fk1fl1.tiff                100% 2257KB   5.6MB/s   00:00    \n",
      "r12c20f08p01-ch3sk1fk1fl1.tiff                100% 2284KB   5.9MB/s   00:00    \n",
      "r12c20f08p01-ch4sk1fk1fl1.tiff                100% 2170KB   6.7MB/s   00:00    \n",
      "r12c20f08p01-ch5sk1fk1fl1.tiff                100% 2002KB   6.3MB/s   00:00    \n",
      "r12c20f08p01-ch6sk1fk1fl1.tiff                100% 2315KB   5.9MB/s   00:00    \n",
      "r12c20f08p01-ch7sk1fk1fl1.tiff                100% 2290KB   6.4MB/s   00:00    \n",
      "r12c20f08p01-ch8sk1fk1fl1.tiff                100% 2225KB   5.2MB/s   00:00    \n",
      "BR00117011_IllumMito.npy                      100% 4556KB   7.6MB/s   00:00    \n",
      "BR00117011_IllumER.npy                        100% 4556KB   4.9MB/s   00:00    \n",
      "BR00117011_IllumBrightfield.npy               100% 4556KB   4.7MB/s   00:00    \n",
      "BR00117011_IllumRNA.npy                       100% 4556KB   5.5MB/s   00:00    \n",
      "BR00117011_IllumAGP.npy                       100% 4556KB   6.0MB/s   00:00    \n",
      "BR00117011_IllumLowZBF.npy                    100% 4556KB   6.0MB/s   00:00    \n",
      "BR00117011_IllumDNA.npy                       100% 4556KB   6.1MB/s   00:00    \n",
      "BR00117011_IllumHighZBF.npy                   100% 4556KB   6.4MB/s   00:00    \n"
     ]
    }
   ],
   "source": [
    "!scp morikura@v104:/data/Ozeki/JUMPCellPaintingDatasets/CellPaintingGallery/cpg0000-jump-pilot/source_4/images/2020_11_04_CPJUMP1/images/BR00117011__2020-11-08T19_57_47-Measurement1/Images/r12c20f08p01-ch1sk1fk1fl1.tiff /Users/morikura/Documents/Ozeki/pairedimagetoimagetranslation/notebooks/visualize_ground_truth/images/BR00117011__2020-11-08T19_57_47-Measurement1/Images/r12c20f08p01-ch1sk1fk1fl1.tiff\n",
    "!scp morikura@v104:/data/Ozeki/JUMPCellPaintingDatasets/CellPaintingGallery/cpg0000-jump-pilot/source_4/images/2020_11_04_CPJUMP1/images/BR00117011__2020-11-08T19_57_47-Measurement1/Images/r12c20f08p01-ch2sk1fk1fl1.tiff /Users/morikura/Documents/Ozeki/pairedimagetoimagetranslation/notebooks/visualize_ground_truth/images/BR00117011__2020-11-08T19_57_47-Measurement1/Images/r12c20f08p01-ch2sk1fk1fl1.tiff\n",
    "!scp morikura@v104:/data/Ozeki/JUMPCellPaintingDatasets/CellPaintingGallery/cpg0000-jump-pilot/source_4/images/2020_11_04_CPJUMP1/images/BR00117011__2020-11-08T19_57_47-Measurement1/Images/r12c20f08p01-ch3sk1fk1fl1.tiff /Users/morikura/Documents/Ozeki/pairedimagetoimagetranslation/notebooks/visualize_ground_truth/images/BR00117011__2020-11-08T19_57_47-Measurement1/Images/r12c20f08p01-ch3sk1fk1fl1.tiff\n",
    "!scp morikura@v104:/data/Ozeki/JUMPCellPaintingDatasets/CellPaintingGallery/cpg0000-jump-pilot/source_4/images/2020_11_04_CPJUMP1/images/BR00117011__2020-11-08T19_57_47-Measurement1/Images/r12c20f08p01-ch4sk1fk1fl1.tiff /Users/morikura/Documents/Ozeki/pairedimagetoimagetranslation/notebooks/visualize_ground_truth/images/BR00117011__2020-11-08T19_57_47-Measurement1/Images/r12c20f08p01-ch4sk1fk1fl1.tiff\n",
    "!scp morikura@v104:/data/Ozeki/JUMPCellPaintingDatasets/CellPaintingGallery/cpg0000-jump-pilot/source_4/images/2020_11_04_CPJUMP1/images/BR00117011__2020-11-08T19_57_47-Measurement1/Images/r12c20f08p01-ch5sk1fk1fl1.tiff /Users/morikura/Documents/Ozeki/pairedimagetoimagetranslation/notebooks/visualize_ground_truth/images/BR00117011__2020-11-08T19_57_47-Measurement1/Images/r12c20f08p01-ch5sk1fk1fl1.tiff\n",
    "!scp morikura@v104:/data/Ozeki/JUMPCellPaintingDatasets/CellPaintingGallery/cpg0000-jump-pilot/source_4/images/2020_11_04_CPJUMP1/images/BR00117011__2020-11-08T19_57_47-Measurement1/Images/r12c20f08p01-ch6sk1fk1fl1.tiff /Users/morikura/Documents/Ozeki/pairedimagetoimagetranslation/notebooks/visualize_ground_truth/images/BR00117011__2020-11-08T19_57_47-Measurement1/Images/r12c20f08p01-ch6sk1fk1fl1.tiff\n",
    "!scp morikura@v104:/data/Ozeki/JUMPCellPaintingDatasets/CellPaintingGallery/cpg0000-jump-pilot/source_4/images/2020_11_04_CPJUMP1/images/BR00117011__2020-11-08T19_57_47-Measurement1/Images/r12c20f08p01-ch7sk1fk1fl1.tiff /Users/morikura/Documents/Ozeki/pairedimagetoimagetranslation/notebooks/visualize_ground_truth/images/BR00117011__2020-11-08T19_57_47-Measurement1/Images/r12c20f08p01-ch7sk1fk1fl1.tiff\n",
    "!scp morikura@v104:/data/Ozeki/JUMPCellPaintingDatasets/CellPaintingGallery/cpg0000-jump-pilot/source_4/images/2020_11_04_CPJUMP1/images/BR00117011__2020-11-08T19_57_47-Measurement1/Images/r12c20f08p01-ch8sk1fk1fl1.tiff /Users/morikura/Documents/Ozeki/pairedimagetoimagetranslation/notebooks/visualize_ground_truth/images/BR00117011__2020-11-08T19_57_47-Measurement1/Images/r12c20f08p01-ch8sk1fk1fl1.tiff\n",
    "!scp -r morikura@v104:/data/Ozeki/JUMPCellPaintingDatasets/CellPaintingGallery/cpg0000-jump-pilot/source_4/images/2020_11_04_CPJUMP1/illum/BR00117011 /Users/morikura/Documents/Ozeki/pairedimagetoimagetranslation/notebooks/visualize_ground_truth/illum/BR00117011"
   ]
  },
  {
   "cell_type": "code",
   "execution_count": 22,
   "metadata": {},
   "outputs": [],
   "source": [
    "from glob import glob\n",
    "import numpy as np\n",
    "from skimage import io\n",
    "import imageio\n",
    "\n",
    "def _correct_image(root_path, filepath, channel_id, channel_table):\n",
    "    img_path = f\"{root_path}/images/{filepath}-{channel_id}sk1fk1fl1.tiff\"\n",
    "    id = filepath[:10]\n",
    "    channel_name = channel_table[channel_id]\n",
    "    correction_path = f\"{root_path}/illum/{id}/{id}_Illum{channel_name}.npy\"\n",
    "\n",
    "    # Illumination correction\n",
    "    img = io.imread(img_path)\n",
    "    correction_function = np.load(correction_path, allow_pickle=True)\n",
    "    img_corrected = img / correction_function\n",
    "    return img_corrected\n",
    "\n",
    "def save_image_function(save_dir, filename, img):\n",
    "    if img.dtype == 'uint16':\n",
    "        imageio.imwrite(f\"{save_dir}/{filename}.tif\", img)\n",
    "    else:\n",
    "        io.imsave(f\"{save_dir}/{filename}.png\",\n",
    "                  img,\n",
    "                  check_contrast=False)\n",
    "        \n",
    "channel_table = {\n",
    "  \"ch1\": \"Mito\",\n",
    "  \"ch2\": \"AGP\",\n",
    "  \"ch3\": \"RNA\",\n",
    "  \"ch4\": \"ER\",\n",
    "  \"ch5\": \"DNA\",\n",
    "  \"ch6\": \"HighZBF\",\n",
    "  \"ch7\": \"LowZBF\",\n",
    "  \"ch8\": \"Brightfield\"\n",
    "}\n",
    "\n",
    "root_path = './visualize_ground_truth'\n",
    "filepath = 'BR00117011__2020-11-08T19_57_47-Measurement1/Images/r12c20f08p01'\n",
    "channel_list = [f'ch{i+1}' for i in range(8)]\n",
    "\n",
    "save_dir = f'./visualize_ground_truth/ground_truth/{filepath[:10]}/{filepath[-12:]}'\n",
    "if not os.path.exists(save_dir):\n",
    "    os.makedirs(save_dir)\n",
    "\n",
    "for channel_id in channel_list:\n",
    "    corrected_img = _correct_image(root_path, filepath, channel_id, channel_table)\n",
    "    corrected_img = corrected_img.astype('uint16')\n",
    "    savefilename = f'{filepath[-12:]}-{channel_id}sk1fk1fl1_corrected'\n",
    "    save_image_function(save_dir, savefilename, corrected_img)"
   ]
  }
 ],
 "metadata": {
  "kernelspec": {
   "display_name": "venv",
   "language": "python",
   "name": "python3"
  },
  "language_info": {
   "codemirror_mode": {
    "name": "ipython",
    "version": 3
   },
   "file_extension": ".py",
   "mimetype": "text/x-python",
   "name": "python",
   "nbconvert_exporter": "python",
   "pygments_lexer": "ipython3",
   "version": "3.10.11"
  }
 },
 "nbformat": 4,
 "nbformat_minor": 2
}
